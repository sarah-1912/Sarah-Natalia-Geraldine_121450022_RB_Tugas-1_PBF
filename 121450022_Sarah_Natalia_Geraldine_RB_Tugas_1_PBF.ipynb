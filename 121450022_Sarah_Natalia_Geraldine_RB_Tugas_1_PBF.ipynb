{
  "nbformat": 4,
  "nbformat_minor": 0,
  "metadata": {
    "colab": {
      "provenance": []
    },
    "kernelspec": {
      "name": "python3",
      "display_name": "Python 3"
    },
    "language_info": {
      "name": "python"
    }
  },
  "cells": [
    {
      "cell_type": "markdown",
      "source": [
        "1. Jelaskan menggunakan tabel mengenai kelebihan dan kekurangan paradigma Procedural dibandingkan dengan Object Oriented (minimal 3) !\n",
        "\n",
        "##Kelebihan Paradigma procedural dan object oriented:"
      ],
      "metadata": {
        "id": "wpv29Tvmpr_Q"
      }
    },
    {
      "cell_type": "code",
      "source": [
        "from tabulate import tabulate\n",
        "data = [[\"Pemrogramannya Lebih Mudah dipahami dibandingkan onject oriented\",\"Pemrogramannya lebih sulit dipahami dibandingkan procedural\"],\n",
        "        [\"Memiliki modularitas yang kompleks didalam sebuah program sehingga data tidak mudah dimodifikasi\",\"Kurangnya modularitas yang kompleks sehingga didalam sebuah program oriented datanya mudah dimodifikasi\"]\n",
        "        ,[\"Cocok untuk program/aplikasi sederhana\",\"Kurang cocok untuk program/aplikasi sederhana\"]]\n",
        "print(tabulate(data, headers=[\"Procedural\",\"Oriented\"],tablefmt=\"fancy_grid\"))\n",
        "     "
      ],
      "metadata": {
        "colab": {
          "base_uri": "https://localhost:8080/"
        },
        "id": "4UJleh88p8qi",
        "outputId": "0aef9817-d916-4530-b57d-784788d2fa51"
      },
      "execution_count": 1,
      "outputs": [
        {
          "output_type": "stream",
          "name": "stdout",
          "text": [
            "╒══════════════════════════════════════════════════════════════════════════════════════════════════╤═════════════════════════════════════════════════════════════════════════════════════════════════════════╕\n",
            "│ Procedural                                                                                       │ Oriented                                                                                                │\n",
            "╞══════════════════════════════════════════════════════════════════════════════════════════════════╪═════════════════════════════════════════════════════════════════════════════════════════════════════════╡\n",
            "│ Pemrogramannya Lebih Mudah dipahami dibandingkan onject oriented                                 │ Pemrogramannya lebih sulit dipahami dibandingkan procedural                                             │\n",
            "├──────────────────────────────────────────────────────────────────────────────────────────────────┼─────────────────────────────────────────────────────────────────────────────────────────────────────────┤\n",
            "│ Memiliki modularitas yang kompleks didalam sebuah program sehingga data tidak mudah dimodifikasi │ Kurangnya modularitas yang kompleks sehingga didalam sebuah program oriented datanya mudah dimodifikasi │\n",
            "├──────────────────────────────────────────────────────────────────────────────────────────────────┼─────────────────────────────────────────────────────────────────────────────────────────────────────────┤\n",
            "│ Cocok untuk program/aplikasi sederhana                                                           │ Kurang cocok untuk program/aplikasi sederhana                                                           │\n",
            "╘══════════════════════════════════════════════════════════════════════════════════════════════════╧═════════════════════════════════════════════════════════════════════════════════════════════════════════╛\n"
          ]
        }
      ]
    },
    {
      "cell_type": "markdown",
      "source": [
        "## Kekurangan Paradigma procedural dan Object Oriented :"
      ],
      "metadata": {
        "id": "VdfFzk5OqZYf"
      }
    },
    {
      "cell_type": "code",
      "source": [
        "from tabulate import tabulate\n",
        "data = [[\"Paradigma Prosedural tidak memiliki access modifiers\",\"sedangkan OOP memilikinya antara lain protected, public, dan private\"],\n",
        "        [\"Memiliki tingkat keamanan yang rendah dibandingkan oriented\",\"Memiliki tingkat keamanan yang tinggi\"]\n",
        "        ,[\"Kurang cocok untuk program aplikasi yang kompleks\",\"Cocok untuk program aplikasi yang kompleks\"]]\n",
        "print(tabulate(data, headers=[\"Procedural\",\"Oriented\"],tablefmt=\"fancy_grid\"))\n",
        "     "
      ],
      "metadata": {
        "colab": {
          "base_uri": "https://localhost:8080/"
        },
        "id": "kmpv1P0jqvlZ",
        "outputId": "1be98ee6-24c3-4de4-e6e5-2d7cece0cbe5"
      },
      "execution_count": 2,
      "outputs": [
        {
          "output_type": "stream",
          "name": "stdout",
          "text": [
            "╒═════════════════════════════════════════════════════════════╤══════════════════════════════════════════════════════════════════════╕\n",
            "│ Procedural                                                  │ Oriented                                                             │\n",
            "╞═════════════════════════════════════════════════════════════╪══════════════════════════════════════════════════════════════════════╡\n",
            "│ Paradigma Prosedural tidak memiliki access modifiers        │ sedangkan OOP memilikinya antara lain protected, public, dan private │\n",
            "├─────────────────────────────────────────────────────────────┼──────────────────────────────────────────────────────────────────────┤\n",
            "│ Memiliki tingkat keamanan yang rendah dibandingkan oriented │ Memiliki tingkat keamanan yang tinggi                                │\n",
            "├─────────────────────────────────────────────────────────────┼──────────────────────────────────────────────────────────────────────┤\n",
            "│ Kurang cocok untuk program aplikasi yang kompleks           │ Cocok untuk program aplikasi yang kompleks                           │\n",
            "╘═════════════════════════════════════════════════════════════╧══════════════════════════════════════════════════════════════════════╛\n"
          ]
        }
      ]
    },
    {
      "cell_type": "markdown",
      "source": [
        "2. Jelaskan menggunakan tabel mengenai kelebihan dan kekurangan paradigma Object Oriented dibandingkan dengan Functional (minimal 3) !\n",
        "\n",
        "\n",
        "##Kelebihan Object Oriented dibandingkan Functional:"
      ],
      "metadata": {
        "id": "8WwaVbW1q06X"
      }
    },
    {
      "cell_type": "code",
      "source": [
        "from tabulate import tabulate\n",
        "data = [[\"Oriented di support oleh banyak library sehingga mempercepat penyelesaian program\",\"Library tidak sebanyak oriented sehingga memerlukan waktu banyak untuk penyelesaian program\"],\n",
        "        [\"Cocok untuk mengerjakan proyek besar karena designnya modular\",\"Kurang cocok untuk mengerjakan proyek besar\"]\n",
        "        ,[\"Sistem Program dapat dikembangankan sampai skala yang paling kompleks\",\"sSstem program tidak dapat dikembangkan ke skala yang paling kompleks\"]]\n",
        "print(tabulate(data, headers=[\"oriented\",\"Functional\"],tablefmt=\"fancy_grid\"))\n",
        "     \n",
        "     "
      ],
      "metadata": {
        "colab": {
          "base_uri": "https://localhost:8080/"
        },
        "id": "oe0aPpCvq57-",
        "outputId": "a2b75a71-a491-43ba-ed89-6741077d839a"
      },
      "execution_count": 3,
      "outputs": [
        {
          "output_type": "stream",
          "name": "stdout",
          "text": [
            "╒═══════════════════════════════════════════════════════════════════════════════════╤═════════════════════════════════════════════════════════════════════════════════════════════╕\n",
            "│ oriented                                                                          │ Functional                                                                                  │\n",
            "╞═══════════════════════════════════════════════════════════════════════════════════╪═════════════════════════════════════════════════════════════════════════════════════════════╡\n",
            "│ Oriented di support oleh banyak library sehingga mempercepat penyelesaian program │ Library tidak sebanyak oriented sehingga memerlukan waktu banyak untuk penyelesaian program │\n",
            "├───────────────────────────────────────────────────────────────────────────────────┼─────────────────────────────────────────────────────────────────────────────────────────────┤\n",
            "│ Cocok untuk mengerjakan proyek besar karena designnya modular                     │ Kurang cocok untuk mengerjakan proyek besar                                                 │\n",
            "├───────────────────────────────────────────────────────────────────────────────────┼─────────────────────────────────────────────────────────────────────────────────────────────┤\n",
            "│ Sistem Program dapat dikembangankan sampai skala yang paling kompleks             │ sSstem program tidak dapat dikembangkan ke skala yang paling kompleks                       │\n",
            "╘═══════════════════════════════════════════════════════════════════════════════════╧═════════════════════════════════════════════════════════════════════════════════════════════╛\n"
          ]
        }
      ]
    },
    {
      "cell_type": "markdown",
      "source": [
        "## Kekurangan Object Oriented dibandingkan Functional:"
      ],
      "metadata": {
        "id": "uUZ2uZJhrBRO"
      }
    },
    {
      "cell_type": "code",
      "source": [
        "from tabulate import tabulate\n",
        "data = [[\"Ukuran program lebih besar\",\"Ukuran program lebih kecil\"],\n",
        "        [\"Runtime Program oriented lebih lama dibandingkan functional\",\"Runtime program lebih cepat dibandingkan oriented\"]\n",
        "        ,[\"Program oriented lebih kompleks sehingga membutuhkan waktu untuk terbiasa\",\"Program tidak begitu kompleks dibandingkan dengan oriented\"]]\n",
        "print(tabulate(data, headers=[\"oriented\",\"Functional\"],tablefmt=\"fancy_grid\"))\n",
        "     "
      ],
      "metadata": {
        "colab": {
          "base_uri": "https://localhost:8080/"
        },
        "id": "W2-XENQnrISa",
        "outputId": "583f1e89-d4b3-45d0-aeb5-9edac107861a"
      },
      "execution_count": 4,
      "outputs": [
        {
          "output_type": "stream",
          "name": "stdout",
          "text": [
            "╒═══════════════════════════════════════════════════════════════════════════╤════════════════════════════════════════════════════════════╕\n",
            "│ oriented                                                                  │ Functional                                                 │\n",
            "╞═══════════════════════════════════════════════════════════════════════════╪════════════════════════════════════════════════════════════╡\n",
            "│ Ukuran program lebih besar                                                │ Ukuran program lebih kecil                                 │\n",
            "├───────────────────────────────────────────────────────────────────────────┼────────────────────────────────────────────────────────────┤\n",
            "│ Runtime Program oriented lebih lama dibandingkan functional               │ Runtime program lebih cepat dibandingkan oriented          │\n",
            "├───────────────────────────────────────────────────────────────────────────┼────────────────────────────────────────────────────────────┤\n",
            "│ Program oriented lebih kompleks sehingga membutuhkan waktu untuk terbiasa │ Program tidak begitu kompleks dibandingkan dengan oriented │\n",
            "╘═══════════════════════════════════════════════════════════════════════════╧════════════════════════════════════════════════════════════╛\n"
          ]
        }
      ]
    },
    {
      "cell_type": "markdown",
      "source": [
        "3. Jelaskan menggunakan tabel mengenai kelebihan dan kekurangan paradigma Procedural dibandingkan dengan Functional (minimal 3) !\n",
        "\n",
        "\n",
        "##Kelebihan procedural dibandingkan functional:"
      ],
      "metadata": {
        "id": "Tp-2af1trNay"
      }
    },
    {
      "cell_type": "code",
      "source": [
        "from tabulate import tabulate\n",
        "data = [[\"Pengimplementasian algoritma paradigma lebih mudah dipahami untuk pemula\",\"Lebih sulit dipahami untuk pemula karena pengimplementasiannya berkutat dengan fungsi sulit dinalar ke dunia nyata\"],\n",
        "        [\"Data bersifat mutable\",\"Data bersifat imutable\"]\n",
        "        ,[\"Penggunaan looping normal\",\"penggunaan looping yang sulit dan mengintimidasi\"]]\n",
        "print(tabulate(data, headers=[\"procedural\",\"Functional\"],tablefmt=\"fancy_grid\"))\n",
        "     "
      ],
      "metadata": {
        "colab": {
          "base_uri": "https://localhost:8080/"
        },
        "id": "itraZmixri4R",
        "outputId": "c67643aa-bca0-415a-f9da-0af2e06eb3bd"
      },
      "execution_count": 5,
      "outputs": [
        {
          "output_type": "stream",
          "name": "stdout",
          "text": [
            "╒══════════════════════════════════════════════════════════════════════════╤════════════════════════════════════════════════════════════════════════════════════════════════════════════════════╕\n",
            "│ procedural                                                               │ Functional                                                                                                         │\n",
            "╞══════════════════════════════════════════════════════════════════════════╪════════════════════════════════════════════════════════════════════════════════════════════════════════════════════╡\n",
            "│ Pengimplementasian algoritma paradigma lebih mudah dipahami untuk pemula │ Lebih sulit dipahami untuk pemula karena pengimplementasiannya berkutat dengan fungsi sulit dinalar ke dunia nyata │\n",
            "├──────────────────────────────────────────────────────────────────────────┼────────────────────────────────────────────────────────────────────────────────────────────────────────────────────┤\n",
            "│ Data bersifat mutable                                                    │ Data bersifat imutable                                                                                             │\n",
            "├──────────────────────────────────────────────────────────────────────────┼────────────────────────────────────────────────────────────────────────────────────────────────────────────────────┤\n",
            "│ Penggunaan looping normal                                                │ penggunaan looping yang sulit dan mengintimidasi                                                                   │\n",
            "╘══════════════════════════════════════════════════════════════════════════╧════════════════════════════════════════════════════════════════════════════════════════════════════════════════════╛\n"
          ]
        }
      ]
    },
    {
      "cell_type": "markdown",
      "source": [
        "## Kekurangan Procedural dibandingkan Functional :"
      ],
      "metadata": {
        "id": "1m1Z1PBlro0c"
      }
    },
    {
      "cell_type": "code",
      "source": [
        "from tabulate import tabulate\n",
        "data = [[\"Proses debug lebih lambat\",\"Proses debug lebih cepat\"],\n",
        "        [\"Kurang cocok digunakan untuk pengembangan program yang sensitif terhadap data\",\"Cocok digunakan untuk pengembangan program yang sensitif terhadap data\"]\n",
        "        ,[\"Jarang menggunakan fungsi\",\"Menggunakan fungsi agar lebih kompleks\"]]\n",
        "print(tabulate(data, headers=[\"procedural\",\"Functional\"],tablefmt=\"fancy_grid\"))\n",
        "  "
      ],
      "metadata": {
        "colab": {
          "base_uri": "https://localhost:8080/"
        },
        "id": "ILoZTTLvrxgR",
        "outputId": "bab557ae-a6e8-4611-e39f-b4727316f61b"
      },
      "execution_count": 6,
      "outputs": [
        {
          "output_type": "stream",
          "name": "stdout",
          "text": [
            "╒═══════════════════════════════════════════════════════════════════════════════╤════════════════════════════════════════════════════════════════════════╕\n",
            "│ procedural                                                                    │ Functional                                                             │\n",
            "╞═══════════════════════════════════════════════════════════════════════════════╪════════════════════════════════════════════════════════════════════════╡\n",
            "│ Proses debug lebih lambat                                                     │ Proses debug lebih cepat                                               │\n",
            "├───────────────────────────────────────────────────────────────────────────────┼────────────────────────────────────────────────────────────────────────┤\n",
            "│ Kurang cocok digunakan untuk pengembangan program yang sensitif terhadap data │ Cocok digunakan untuk pengembangan program yang sensitif terhadap data │\n",
            "├───────────────────────────────────────────────────────────────────────────────┼────────────────────────────────────────────────────────────────────────┤\n",
            "│ Jarang menggunakan fungsi                                                     │ Menggunakan fungsi agar lebih kompleks                                 │\n",
            "╘═══════════════════════════════════════════════════════════════════════════════╧════════════════════════════════════════════════════════════════════════╛\n"
          ]
        }
      ]
    },
    {
      "cell_type": "markdown",
      "source": [
        "##4. Apa yang dimaksud dengan pure functional programming language?\n",
        "\n"
      ],
      "metadata": {
        "id": "O1W-dpwTr2Im"
      }
    },
    {
      "cell_type": "markdown",
      "source": [
        "Suatu gaya yang membangun struktur dan elemen program komputer yang memperlakukan semua perhitungan sebagai evaluasi fungsi matematika. Pure functional programming memastikan bahwa fungsi dalam paradigma fungsional hanya bergantung pada argumennya, terlepas dari keadaan global atau lokal apa pun."
      ],
      "metadata": {
        "id": "rz1z6TwEsJ54"
      }
    },
    {
      "cell_type": "markdown",
      "source": [
        "##5. Dari bahasa pemrograman FP di slide sebelumnya ( slide 14 ) , manakah yang termasuk pure functional programming language?"
      ],
      "metadata": {
        "id": "PM8eIm0WsQ_y"
      }
    },
    {
      "cell_type": "markdown",
      "source": [
        "\n",
        "\n",
        "*   Lisp\n",
        "\n",
        "*   Haskell\n",
        "*   Scala\n",
        "\n",
        "\n",
        "*   Javascript\n",
        "\n",
        "\n",
        "*   Python\n",
        "\n",
        "\n",
        "\n",
        "\n"
      ],
      "metadata": {
        "id": "PRf_9VDnscr6"
      }
    },
    {
      "cell_type": "markdown",
      "source": [
        "##6. Membuat program Simple Password encryption, dengan ketentuan :\n",
        "\n",
        "1. Input password bertipe string dengan batasan panjang password 100 karakter\n",
        "\n",
        "2. Setiap karakter dari string tersebut diubah menjadi ASCII value\n",
        "\n",
        "3. Kemudian setiap ASCII value tersebut dikembangkan menjadi 3 value dengan dilakukan operasi berikut:\n",
        "\n",
        "  - Value pertama dibagi dengan integer 26 kemudian dibulatkan dan dijumlahkan dengan 80 kemudian diubah kembali menjadi karakter\n",
        "\n",
        "  - Value kedua dihitung sisa bagi dengan 26 kemudian dijumlahkan dengan 80 kemudian diubah kembali menjadi karakter\n",
        "\n",
        "   - Value ketiga adalah karakter '+' jika value pertama lebih besar dari value kedua, atau value ketiga adalah karakter '-' jika value pertama tidak lebih besar dari value kedua\n",
        "\n",
        "  - Deretkan value pertama, kedua dan ketiga untuk setiap karakter dalam password tersebut sehingga didapatkan password dalam bentuk baru"
      ],
      "metadata": {
        "id": "QsH3HUQMssQc"
      }
    },
    {
      "cell_type": "code",
      "source": [
        "# encryption\n",
        "def enkripsi(password):\n",
        "  if len(password) > 100 or len(password) == 0:\n",
        "    print(\"Enter 1-100 characters\")\n",
        "  else:\n",
        "    ascii = [str(ord(i)) for i in password]\n",
        "    enkri = ''.join(chr((int(j)//26)+80)+chr((int(j)%26)+80)+('+' if (int(j)//26)+80 > (int(j)%26)+80 else '-') for j in ascii)\n",
        "    print(\"The encryption password is: \", enkri)\n",
        "\n",
        "# Description\n",
        "def dekripsi(password):\n",
        "  split_ps = [(password[k:k+3]) for k in range(0, len(password), 3)]\n",
        "  dekri = ''.join(chr(((ord(list(z)[0])-80)*26)+(ord(list(z)[1])-80)) for z in split_ps)\n",
        "  print(\"The password is: \", dekri)\n",
        "\n",
        "password = input(\"Enter Password: \")\n",
        "enkripsi(password)\n",
        "\n",
        "enk = input(\"Enter the encryption password: \")\n",
        "dekripsi(enk)\n",
        "     "
      ],
      "metadata": {
        "colab": {
          "base_uri": "https://localhost:8080/"
        },
        "id": "qT2my0UBtLTD",
        "outputId": "78e4566d-4bd6-4952-fc2d-a7d58269727f"
      },
      "execution_count": 8,
      "outputs": [
        {
          "output_type": "stream",
          "name": "stdout",
          "text": [
            "Enter Password: sarahnataliageraldine\n",
            "The encryption password is:  T[-Sc-TZ-Sc-TP+TV-Sc-T\\-Sc-TT-TQ+Sc-Si-Sg-TZ-Sc-TT-Sf-TQ+TV-Sg-\n",
            "Enter the encryption password: T[-Sc-TZ-Sc-TP+TV-Sc-T\\-Sc-TT-TQ+Sc-Si-Sg-TZ-Sc-TT-Sf-TQ+TV-Sg-\n",
            "The password is:  sarahnataliageraldine\n"
          ]
        }
      ]
    }
  ]
}